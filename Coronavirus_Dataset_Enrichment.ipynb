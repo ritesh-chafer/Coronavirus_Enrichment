{
  "nbformat": 4,
  "nbformat_minor": 0,
  "metadata": {
    "colab": {
      "name": "Coronavirus Dataset Enrichment.ipynb",
      "provenance": []
    },
    "kernelspec": {
      "name": "python38264bittutorialenv436430fd220b40d9932c88dc295e5f69",
      "display_name": "Python 3.8.2 64-bit ('tutorial-env')"
    }
  },
  "cells": [
    {
      "cell_type": "code",
      "execution_count": 1,
      "metadata": {
        "tags": []
      },
      "outputs": [
        {
          "output_type": "stream",
          "name": "stdout",
          "text": "Collecting python-dotenv\n  Downloading python_dotenv-0.14.0-py2.py3-none-any.whl (17 kB)\nInstalling collected packages: python-dotenv\nSuccessfully installed python-dotenv-0.14.0\n"
        }
      ],
      "source": [
        "!pip install python-dotenv"
      ]
    },
    {
      "cell_type": "code",
      "metadata": {
        "id": "lK3qxmaod-1a",
        "tags": []
      },
      "source": [
        "from dotenv import load_dotenv # add this line\n",
        "\n",
        "load_dotenv() # add this line\n",
        "\n",
        "accesstoken = os.getenv('ACCESS_TOKEN')\n",
        "accesstokensecret = os.getenv('ACCESS_TOKEN_SECRET')\n",
        "apikey = os.getenv('API_KEY')\n",
        "apisecretkey = os.getenv('API_SECRET_KEY')\n",
        "print(accesstoken)"
      ],
      "execution_count": 39,
      "outputs": [
        {
          "output_type": "stream",
          "name": "stdout",
          "text": "1027542862861426688-IbwHGihEBcGrCeaz9P5gZ0iczYlWwj\n"
        }
      ]
    },
    {
      "cell_type": "code",
      "metadata": {
        "id": "NjLR9Ijv0uZj",
        "tags": []
      },
      "source": [
        "import pandas as pd"
      ],
      "execution_count": 6,
      "outputs": []
    },
    {
      "cell_type": "code",
      "metadata": {
        "id": "2roXrAcNnS6W"
      },
      "source": [
        "corona_confirmed_df = pd.read_csv('https://raw.githubusercontent.com/CSSEGISandData/COVID-19/master/csse_covid_19_data/csse_covid_19_time_series/time_series_covid19_confirmed_global.csv')"
      ],
      "execution_count": 7,
      "outputs": []
    },
    {
      "cell_type": "code",
      "metadata": {
        "id": "1cY3AyoQxB_4",
        "outputId": "844c9433-2435-4d3f-8355-c292ef6ef261",
        "colab": {
          "base_uri": "https://localhost:8080/",
          "height": 253
        }
      },
      "source": [
        "corona_confirmed_df.head()"
      ],
      "execution_count": 8,
      "outputs": [
        {
          "output_type": "execute_result",
          "data": {
            "text/plain": "  Province/State Country/Region       Lat       Long  1/22/20  1/23/20  \\\n0            NaN    Afghanistan  33.93911  67.709953        0        0   \n1            NaN        Albania  41.15330  20.168300        0        0   \n2            NaN        Algeria  28.03390   1.659600        0        0   \n3            NaN        Andorra  42.50630   1.521800        0        0   \n4            NaN         Angola -11.20270  17.873900        0        0   \n\n   1/24/20  1/25/20  1/26/20  1/27/20  ...  9/26/20  9/27/20  9/28/20  \\\n0        0        0        0        0  ...    39192    39227    39233   \n1        0        0        0        0  ...    13153    13259    13391   \n2        0        0        0        0  ...    50914    51067    51213   \n3        0        0        0        0  ...     1836     1836     1966   \n4        0        0        0        0  ...     4672     4718     4797   \n\n   9/29/20  9/30/20  10/1/20  10/2/20  10/3/20  10/4/20  10/5/20  \n0    39254    39268    39285    39290    39297    39341    39422  \n1    13518    13649    13806    13965    14117    14266    14410  \n2    51368    51530    51690    51847    51995    52136    52270  \n3     1966     2050     2050     2110     2110     2110     2370  \n4     4905     4972     5114     5211     5370     5402     5530  \n\n[5 rows x 262 columns]",
            "text/html": "<div>\n<style scoped>\n    .dataframe tbody tr th:only-of-type {\n        vertical-align: middle;\n    }\n\n    .dataframe tbody tr th {\n        vertical-align: top;\n    }\n\n    .dataframe thead th {\n        text-align: right;\n    }\n</style>\n<table border=\"1\" class=\"dataframe\">\n  <thead>\n    <tr style=\"text-align: right;\">\n      <th></th>\n      <th>Province/State</th>\n      <th>Country/Region</th>\n      <th>Lat</th>\n      <th>Long</th>\n      <th>1/22/20</th>\n      <th>1/23/20</th>\n      <th>1/24/20</th>\n      <th>1/25/20</th>\n      <th>1/26/20</th>\n      <th>1/27/20</th>\n      <th>...</th>\n      <th>9/26/20</th>\n      <th>9/27/20</th>\n      <th>9/28/20</th>\n      <th>9/29/20</th>\n      <th>9/30/20</th>\n      <th>10/1/20</th>\n      <th>10/2/20</th>\n      <th>10/3/20</th>\n      <th>10/4/20</th>\n      <th>10/5/20</th>\n    </tr>\n  </thead>\n  <tbody>\n    <tr>\n      <th>0</th>\n      <td>NaN</td>\n      <td>Afghanistan</td>\n      <td>33.93911</td>\n      <td>67.709953</td>\n      <td>0</td>\n      <td>0</td>\n      <td>0</td>\n      <td>0</td>\n      <td>0</td>\n      <td>0</td>\n      <td>...</td>\n      <td>39192</td>\n      <td>39227</td>\n      <td>39233</td>\n      <td>39254</td>\n      <td>39268</td>\n      <td>39285</td>\n      <td>39290</td>\n      <td>39297</td>\n      <td>39341</td>\n      <td>39422</td>\n    </tr>\n    <tr>\n      <th>1</th>\n      <td>NaN</td>\n      <td>Albania</td>\n      <td>41.15330</td>\n      <td>20.168300</td>\n      <td>0</td>\n      <td>0</td>\n      <td>0</td>\n      <td>0</td>\n      <td>0</td>\n      <td>0</td>\n      <td>...</td>\n      <td>13153</td>\n      <td>13259</td>\n      <td>13391</td>\n      <td>13518</td>\n      <td>13649</td>\n      <td>13806</td>\n      <td>13965</td>\n      <td>14117</td>\n      <td>14266</td>\n      <td>14410</td>\n    </tr>\n    <tr>\n      <th>2</th>\n      <td>NaN</td>\n      <td>Algeria</td>\n      <td>28.03390</td>\n      <td>1.659600</td>\n      <td>0</td>\n      <td>0</td>\n      <td>0</td>\n      <td>0</td>\n      <td>0</td>\n      <td>0</td>\n      <td>...</td>\n      <td>50914</td>\n      <td>51067</td>\n      <td>51213</td>\n      <td>51368</td>\n      <td>51530</td>\n      <td>51690</td>\n      <td>51847</td>\n      <td>51995</td>\n      <td>52136</td>\n      <td>52270</td>\n    </tr>\n    <tr>\n      <th>3</th>\n      <td>NaN</td>\n      <td>Andorra</td>\n      <td>42.50630</td>\n      <td>1.521800</td>\n      <td>0</td>\n      <td>0</td>\n      <td>0</td>\n      <td>0</td>\n      <td>0</td>\n      <td>0</td>\n      <td>...</td>\n      <td>1836</td>\n      <td>1836</td>\n      <td>1966</td>\n      <td>1966</td>\n      <td>2050</td>\n      <td>2050</td>\n      <td>2110</td>\n      <td>2110</td>\n      <td>2110</td>\n      <td>2370</td>\n    </tr>\n    <tr>\n      <th>4</th>\n      <td>NaN</td>\n      <td>Angola</td>\n      <td>-11.20270</td>\n      <td>17.873900</td>\n      <td>0</td>\n      <td>0</td>\n      <td>0</td>\n      <td>0</td>\n      <td>0</td>\n      <td>0</td>\n      <td>...</td>\n      <td>4672</td>\n      <td>4718</td>\n      <td>4797</td>\n      <td>4905</td>\n      <td>4972</td>\n      <td>5114</td>\n      <td>5211</td>\n      <td>5370</td>\n      <td>5402</td>\n      <td>5530</td>\n    </tr>\n  </tbody>\n</table>\n<p>5 rows × 262 columns</p>\n</div>"
          },
          "metadata": {},
          "execution_count": 8
        }
      ]
    },
    {
      "cell_type": "code",
      "metadata": {
        "id": "t8eJXXI8xbz8"
      },
      "source": [
        "corona_death_df = pd.read_csv('https://raw.githubusercontent.com/CSSEGISandData/COVID-19/master/csse_covid_19_data/csse_covid_19_time_series/time_series_covid19_deaths_global.csv')"
      ],
      "execution_count": 15,
      "outputs": []
    },
    {
      "cell_type": "code",
      "metadata": {
        "id": "CXB_zbGO2onX",
        "outputId": "42202100-dbb2-4f83-f758-fd5355ec19b2",
        "colab": {
          "base_uri": "https://localhost:8080/",
          "height": 253
        }
      },
      "source": [
        "corona_death_df.head()"
      ],
      "execution_count": 16,
      "outputs": [
        {
          "output_type": "execute_result",
          "data": {
            "text/plain": "  Province/State Country/Region       Lat       Long  1/22/20  1/23/20  \\\n0            NaN    Afghanistan  33.93911  67.709953        0        0   \n1            NaN        Albania  41.15330  20.168300        0        0   \n2            NaN        Algeria  28.03390   1.659600        0        0   \n3            NaN        Andorra  42.50630   1.521800        0        0   \n4            NaN         Angola -11.20270  17.873900        0        0   \n\n   1/24/20  1/25/20  1/26/20  1/27/20  ...  9/26/20  9/27/20  9/28/20  \\\n0        0        0        0        0  ...     1453     1453     1455   \n1        0        0        0        0  ...      375      377      380   \n2        0        0        0        0  ...     1711     1714     1719   \n3        0        0        0        0  ...       53       53       53   \n4        0        0        0        0  ...      171      174      176   \n\n   9/29/20  9/30/20  10/1/20  10/2/20  10/3/20  10/4/20  10/5/20  \n0     1458     1458     1458     1458     1462     1462     1466  \n1      384      387      388      389      392      396      400  \n2     1726     1736     1741     1749     1756     1760     1768  \n3       53       53       53       53       53       53       53  \n4      179      183      185      189      193      195      199  \n\n[5 rows x 262 columns]",
            "text/html": "<div>\n<style scoped>\n    .dataframe tbody tr th:only-of-type {\n        vertical-align: middle;\n    }\n\n    .dataframe tbody tr th {\n        vertical-align: top;\n    }\n\n    .dataframe thead th {\n        text-align: right;\n    }\n</style>\n<table border=\"1\" class=\"dataframe\">\n  <thead>\n    <tr style=\"text-align: right;\">\n      <th></th>\n      <th>Province/State</th>\n      <th>Country/Region</th>\n      <th>Lat</th>\n      <th>Long</th>\n      <th>1/22/20</th>\n      <th>1/23/20</th>\n      <th>1/24/20</th>\n      <th>1/25/20</th>\n      <th>1/26/20</th>\n      <th>1/27/20</th>\n      <th>...</th>\n      <th>9/26/20</th>\n      <th>9/27/20</th>\n      <th>9/28/20</th>\n      <th>9/29/20</th>\n      <th>9/30/20</th>\n      <th>10/1/20</th>\n      <th>10/2/20</th>\n      <th>10/3/20</th>\n      <th>10/4/20</th>\n      <th>10/5/20</th>\n    </tr>\n  </thead>\n  <tbody>\n    <tr>\n      <th>0</th>\n      <td>NaN</td>\n      <td>Afghanistan</td>\n      <td>33.93911</td>\n      <td>67.709953</td>\n      <td>0</td>\n      <td>0</td>\n      <td>0</td>\n      <td>0</td>\n      <td>0</td>\n      <td>0</td>\n      <td>...</td>\n      <td>1453</td>\n      <td>1453</td>\n      <td>1455</td>\n      <td>1458</td>\n      <td>1458</td>\n      <td>1458</td>\n      <td>1458</td>\n      <td>1462</td>\n      <td>1462</td>\n      <td>1466</td>\n    </tr>\n    <tr>\n      <th>1</th>\n      <td>NaN</td>\n      <td>Albania</td>\n      <td>41.15330</td>\n      <td>20.168300</td>\n      <td>0</td>\n      <td>0</td>\n      <td>0</td>\n      <td>0</td>\n      <td>0</td>\n      <td>0</td>\n      <td>...</td>\n      <td>375</td>\n      <td>377</td>\n      <td>380</td>\n      <td>384</td>\n      <td>387</td>\n      <td>388</td>\n      <td>389</td>\n      <td>392</td>\n      <td>396</td>\n      <td>400</td>\n    </tr>\n    <tr>\n      <th>2</th>\n      <td>NaN</td>\n      <td>Algeria</td>\n      <td>28.03390</td>\n      <td>1.659600</td>\n      <td>0</td>\n      <td>0</td>\n      <td>0</td>\n      <td>0</td>\n      <td>0</td>\n      <td>0</td>\n      <td>...</td>\n      <td>1711</td>\n      <td>1714</td>\n      <td>1719</td>\n      <td>1726</td>\n      <td>1736</td>\n      <td>1741</td>\n      <td>1749</td>\n      <td>1756</td>\n      <td>1760</td>\n      <td>1768</td>\n    </tr>\n    <tr>\n      <th>3</th>\n      <td>NaN</td>\n      <td>Andorra</td>\n      <td>42.50630</td>\n      <td>1.521800</td>\n      <td>0</td>\n      <td>0</td>\n      <td>0</td>\n      <td>0</td>\n      <td>0</td>\n      <td>0</td>\n      <td>...</td>\n      <td>53</td>\n      <td>53</td>\n      <td>53</td>\n      <td>53</td>\n      <td>53</td>\n      <td>53</td>\n      <td>53</td>\n      <td>53</td>\n      <td>53</td>\n      <td>53</td>\n    </tr>\n    <tr>\n      <th>4</th>\n      <td>NaN</td>\n      <td>Angola</td>\n      <td>-11.20270</td>\n      <td>17.873900</td>\n      <td>0</td>\n      <td>0</td>\n      <td>0</td>\n      <td>0</td>\n      <td>0</td>\n      <td>0</td>\n      <td>...</td>\n      <td>171</td>\n      <td>174</td>\n      <td>176</td>\n      <td>179</td>\n      <td>183</td>\n      <td>185</td>\n      <td>189</td>\n      <td>193</td>\n      <td>195</td>\n      <td>199</td>\n    </tr>\n  </tbody>\n</table>\n<p>5 rows × 262 columns</p>\n</div>"
          },
          "metadata": {},
          "execution_count": 16
        }
      ]
    },
    {
      "cell_type": "code",
      "metadata": {
        "id": "-tNXearW22A9"
      },
      "source": [
        "corona_recovered_df = pd.read_csv('https://raw.githubusercontent.com/CSSEGISandData/COVID-19/master/csse_covid_19_data/csse_covid_19_time_series/time_series_covid19_recovered_global.csv')"
      ],
      "execution_count": 19,
      "outputs": []
    },
    {
      "cell_type": "code",
      "metadata": {
        "id": "qrHJdXQ63oE8",
        "outputId": "72630e79-b6d9-4de6-b929-27b0bbb70c6a",
        "colab": {
          "base_uri": "https://localhost:8080/",
          "height": 253
        }
      },
      "source": [
        "corona_recovered_df.head()"
      ],
      "execution_count": 21,
      "outputs": [
        {
          "output_type": "execute_result",
          "data": {
            "text/plain": "  Province/State Country/Region       Lat       Long  1/22/20  1/23/20  \\\n0            NaN    Afghanistan  33.93911  67.709953        0        0   \n1            NaN        Albania  41.15330  20.168300        0        0   \n2            NaN        Algeria  28.03390   1.659600        0        0   \n3            NaN        Andorra  42.50630   1.521800        0        0   \n4            NaN         Angola -11.20270  17.873900        0        0   \n\n   1/24/20  1/25/20  1/26/20  1/27/20  ...  9/26/20  9/27/20  9/28/20  \\\n0        0        0        0        0  ...    32635    32642    32642   \n1        0        0        0        0  ...     7397     7397     7629   \n2        0        0        0        0  ...    35756    35860    35962   \n3        0        0        0        0  ...     1263     1263     1265   \n4        0        0        0        0  ...     1639     1707     1813   \n\n   9/29/20  9/30/20  10/1/20  10/2/20  10/3/20  10/4/20  10/5/20  \n0    32746    32789    32842    32842    32842    32852    32879  \n1     7732     7847     8077     8342     8536     8675     8825  \n2    36063    36174    36282    36385    36482    36578    36672  \n3     1265     1432     1432     1540     1540     1540     1615  \n4     1833     1941     2082     2215     2436     2577     2591  \n\n[5 rows x 262 columns]",
            "text/html": "<div>\n<style scoped>\n    .dataframe tbody tr th:only-of-type {\n        vertical-align: middle;\n    }\n\n    .dataframe tbody tr th {\n        vertical-align: top;\n    }\n\n    .dataframe thead th {\n        text-align: right;\n    }\n</style>\n<table border=\"1\" class=\"dataframe\">\n  <thead>\n    <tr style=\"text-align: right;\">\n      <th></th>\n      <th>Province/State</th>\n      <th>Country/Region</th>\n      <th>Lat</th>\n      <th>Long</th>\n      <th>1/22/20</th>\n      <th>1/23/20</th>\n      <th>1/24/20</th>\n      <th>1/25/20</th>\n      <th>1/26/20</th>\n      <th>1/27/20</th>\n      <th>...</th>\n      <th>9/26/20</th>\n      <th>9/27/20</th>\n      <th>9/28/20</th>\n      <th>9/29/20</th>\n      <th>9/30/20</th>\n      <th>10/1/20</th>\n      <th>10/2/20</th>\n      <th>10/3/20</th>\n      <th>10/4/20</th>\n      <th>10/5/20</th>\n    </tr>\n  </thead>\n  <tbody>\n    <tr>\n      <th>0</th>\n      <td>NaN</td>\n      <td>Afghanistan</td>\n      <td>33.93911</td>\n      <td>67.709953</td>\n      <td>0</td>\n      <td>0</td>\n      <td>0</td>\n      <td>0</td>\n      <td>0</td>\n      <td>0</td>\n      <td>...</td>\n      <td>32635</td>\n      <td>32642</td>\n      <td>32642</td>\n      <td>32746</td>\n      <td>32789</td>\n      <td>32842</td>\n      <td>32842</td>\n      <td>32842</td>\n      <td>32852</td>\n      <td>32879</td>\n    </tr>\n    <tr>\n      <th>1</th>\n      <td>NaN</td>\n      <td>Albania</td>\n      <td>41.15330</td>\n      <td>20.168300</td>\n      <td>0</td>\n      <td>0</td>\n      <td>0</td>\n      <td>0</td>\n      <td>0</td>\n      <td>0</td>\n      <td>...</td>\n      <td>7397</td>\n      <td>7397</td>\n      <td>7629</td>\n      <td>7732</td>\n      <td>7847</td>\n      <td>8077</td>\n      <td>8342</td>\n      <td>8536</td>\n      <td>8675</td>\n      <td>8825</td>\n    </tr>\n    <tr>\n      <th>2</th>\n      <td>NaN</td>\n      <td>Algeria</td>\n      <td>28.03390</td>\n      <td>1.659600</td>\n      <td>0</td>\n      <td>0</td>\n      <td>0</td>\n      <td>0</td>\n      <td>0</td>\n      <td>0</td>\n      <td>...</td>\n      <td>35756</td>\n      <td>35860</td>\n      <td>35962</td>\n      <td>36063</td>\n      <td>36174</td>\n      <td>36282</td>\n      <td>36385</td>\n      <td>36482</td>\n      <td>36578</td>\n      <td>36672</td>\n    </tr>\n    <tr>\n      <th>3</th>\n      <td>NaN</td>\n      <td>Andorra</td>\n      <td>42.50630</td>\n      <td>1.521800</td>\n      <td>0</td>\n      <td>0</td>\n      <td>0</td>\n      <td>0</td>\n      <td>0</td>\n      <td>0</td>\n      <td>...</td>\n      <td>1263</td>\n      <td>1263</td>\n      <td>1265</td>\n      <td>1265</td>\n      <td>1432</td>\n      <td>1432</td>\n      <td>1540</td>\n      <td>1540</td>\n      <td>1540</td>\n      <td>1615</td>\n    </tr>\n    <tr>\n      <th>4</th>\n      <td>NaN</td>\n      <td>Angola</td>\n      <td>-11.20270</td>\n      <td>17.873900</td>\n      <td>0</td>\n      <td>0</td>\n      <td>0</td>\n      <td>0</td>\n      <td>0</td>\n      <td>0</td>\n      <td>...</td>\n      <td>1639</td>\n      <td>1707</td>\n      <td>1813</td>\n      <td>1833</td>\n      <td>1941</td>\n      <td>2082</td>\n      <td>2215</td>\n      <td>2436</td>\n      <td>2577</td>\n      <td>2591</td>\n    </tr>\n  </tbody>\n</table>\n<p>5 rows × 262 columns</p>\n</div>"
          },
          "metadata": {},
          "execution_count": 21
        }
      ]
    },
    {
      "cell_type": "code",
      "metadata": {
        "id": "7vOAaeQK5RS9"
      },
      "source": [
        "corona_confirmed_df = corona_confirmed_df.melt(id_vars=['Province/State','Country/Region','Lat','Long'])"
      ],
      "execution_count": 22,
      "outputs": []
    },
    {
      "cell_type": "code",
      "metadata": {
        "id": "fqQWBsjb8uCN",
        "outputId": "e210331d-9b10-4b0e-8cf5-0fdd7dd12c93",
        "colab": {
          "base_uri": "https://localhost:8080/",
          "height": 204
        }
      },
      "source": [
        "corona_confirmed_df.head()"
      ],
      "execution_count": 23,
      "outputs": [
        {
          "output_type": "execute_result",
          "data": {
            "text/plain": "  Province/State Country/Region       Lat       Long variable  value\n0            NaN    Afghanistan  33.93911  67.709953  1/22/20      0\n1            NaN        Albania  41.15330  20.168300  1/22/20      0\n2            NaN        Algeria  28.03390   1.659600  1/22/20      0\n3            NaN        Andorra  42.50630   1.521800  1/22/20      0\n4            NaN         Angola -11.20270  17.873900  1/22/20      0",
            "text/html": "<div>\n<style scoped>\n    .dataframe tbody tr th:only-of-type {\n        vertical-align: middle;\n    }\n\n    .dataframe tbody tr th {\n        vertical-align: top;\n    }\n\n    .dataframe thead th {\n        text-align: right;\n    }\n</style>\n<table border=\"1\" class=\"dataframe\">\n  <thead>\n    <tr style=\"text-align: right;\">\n      <th></th>\n      <th>Province/State</th>\n      <th>Country/Region</th>\n      <th>Lat</th>\n      <th>Long</th>\n      <th>variable</th>\n      <th>value</th>\n    </tr>\n  </thead>\n  <tbody>\n    <tr>\n      <th>0</th>\n      <td>NaN</td>\n      <td>Afghanistan</td>\n      <td>33.93911</td>\n      <td>67.709953</td>\n      <td>1/22/20</td>\n      <td>0</td>\n    </tr>\n    <tr>\n      <th>1</th>\n      <td>NaN</td>\n      <td>Albania</td>\n      <td>41.15330</td>\n      <td>20.168300</td>\n      <td>1/22/20</td>\n      <td>0</td>\n    </tr>\n    <tr>\n      <th>2</th>\n      <td>NaN</td>\n      <td>Algeria</td>\n      <td>28.03390</td>\n      <td>1.659600</td>\n      <td>1/22/20</td>\n      <td>0</td>\n    </tr>\n    <tr>\n      <th>3</th>\n      <td>NaN</td>\n      <td>Andorra</td>\n      <td>42.50630</td>\n      <td>1.521800</td>\n      <td>1/22/20</td>\n      <td>0</td>\n    </tr>\n    <tr>\n      <th>4</th>\n      <td>NaN</td>\n      <td>Angola</td>\n      <td>-11.20270</td>\n      <td>17.873900</td>\n      <td>1/22/20</td>\n      <td>0</td>\n    </tr>\n  </tbody>\n</table>\n</div>"
          },
          "metadata": {},
          "execution_count": 23
        }
      ]
    },
    {
      "cell_type": "code",
      "metadata": {
        "id": "mqG_7boQ5Rs5"
      },
      "source": [
        "corona_confirmed_df = corona_confirmed_df.rename({'variable':'Date','value':'Confirmed'},axis = 'columns')"
      ],
      "execution_count": 24,
      "outputs": []
    },
    {
      "cell_type": "code",
      "metadata": {
        "id": "TQNahN4_5RwB",
        "outputId": "c851f13f-de0e-4268-bbac-b48dfb222d3a",
        "colab": {
          "base_uri": "https://localhost:8080/",
          "height": 204
        }
      },
      "source": [
        "corona_confirmed_df.head()"
      ],
      "execution_count": 25,
      "outputs": [
        {
          "output_type": "execute_result",
          "data": {
            "text/plain": "  Province/State Country/Region       Lat       Long     Date  Confirmed\n0            NaN    Afghanistan  33.93911  67.709953  1/22/20          0\n1            NaN        Albania  41.15330  20.168300  1/22/20          0\n2            NaN        Algeria  28.03390   1.659600  1/22/20          0\n3            NaN        Andorra  42.50630   1.521800  1/22/20          0\n4            NaN         Angola -11.20270  17.873900  1/22/20          0",
            "text/html": "<div>\n<style scoped>\n    .dataframe tbody tr th:only-of-type {\n        vertical-align: middle;\n    }\n\n    .dataframe tbody tr th {\n        vertical-align: top;\n    }\n\n    .dataframe thead th {\n        text-align: right;\n    }\n</style>\n<table border=\"1\" class=\"dataframe\">\n  <thead>\n    <tr style=\"text-align: right;\">\n      <th></th>\n      <th>Province/State</th>\n      <th>Country/Region</th>\n      <th>Lat</th>\n      <th>Long</th>\n      <th>Date</th>\n      <th>Confirmed</th>\n    </tr>\n  </thead>\n  <tbody>\n    <tr>\n      <th>0</th>\n      <td>NaN</td>\n      <td>Afghanistan</td>\n      <td>33.93911</td>\n      <td>67.709953</td>\n      <td>1/22/20</td>\n      <td>0</td>\n    </tr>\n    <tr>\n      <th>1</th>\n      <td>NaN</td>\n      <td>Albania</td>\n      <td>41.15330</td>\n      <td>20.168300</td>\n      <td>1/22/20</td>\n      <td>0</td>\n    </tr>\n    <tr>\n      <th>2</th>\n      <td>NaN</td>\n      <td>Algeria</td>\n      <td>28.03390</td>\n      <td>1.659600</td>\n      <td>1/22/20</td>\n      <td>0</td>\n    </tr>\n    <tr>\n      <th>3</th>\n      <td>NaN</td>\n      <td>Andorra</td>\n      <td>42.50630</td>\n      <td>1.521800</td>\n      <td>1/22/20</td>\n      <td>0</td>\n    </tr>\n    <tr>\n      <th>4</th>\n      <td>NaN</td>\n      <td>Angola</td>\n      <td>-11.20270</td>\n      <td>17.873900</td>\n      <td>1/22/20</td>\n      <td>0</td>\n    </tr>\n  </tbody>\n</table>\n</div>"
          },
          "metadata": {},
          "execution_count": 25
        }
      ]
    },
    {
      "cell_type": "code",
      "metadata": {
        "id": "UKwTxFnP5R1B"
      },
      "source": [
        "corona_death_df = corona_death_df.melt(id_vars=['Province/State','Country/Region','Lat','Long'])"
      ],
      "execution_count": 26,
      "outputs": []
    },
    {
      "cell_type": "code",
      "metadata": {
        "id": "vvvLb09B5SB9"
      },
      "source": [
        "corona_death_df = corona_death_df.rename({'variable':'Date','value':'Death'},axis = 'columns')"
      ],
      "execution_count": 28,
      "outputs": []
    },
    {
      "cell_type": "code",
      "metadata": {
        "id": "JNc14eoW5SE1",
        "outputId": "c6eceab0-e311-4e24-b363-929a5dc9e3d6",
        "colab": {
          "base_uri": "https://localhost:8080/",
          "height": 204
        }
      },
      "source": [
        "corona_death_df.head()"
      ],
      "execution_count": 29,
      "outputs": [
        {
          "output_type": "execute_result",
          "data": {
            "text/plain": "  Province/State Country/Region       Lat       Long     Date  Death\n0            NaN    Afghanistan  33.93911  67.709953  1/22/20      0\n1            NaN        Albania  41.15330  20.168300  1/22/20      0\n2            NaN        Algeria  28.03390   1.659600  1/22/20      0\n3            NaN        Andorra  42.50630   1.521800  1/22/20      0\n4            NaN         Angola -11.20270  17.873900  1/22/20      0",
            "text/html": "<div>\n<style scoped>\n    .dataframe tbody tr th:only-of-type {\n        vertical-align: middle;\n    }\n\n    .dataframe tbody tr th {\n        vertical-align: top;\n    }\n\n    .dataframe thead th {\n        text-align: right;\n    }\n</style>\n<table border=\"1\" class=\"dataframe\">\n  <thead>\n    <tr style=\"text-align: right;\">\n      <th></th>\n      <th>Province/State</th>\n      <th>Country/Region</th>\n      <th>Lat</th>\n      <th>Long</th>\n      <th>Date</th>\n      <th>Death</th>\n    </tr>\n  </thead>\n  <tbody>\n    <tr>\n      <th>0</th>\n      <td>NaN</td>\n      <td>Afghanistan</td>\n      <td>33.93911</td>\n      <td>67.709953</td>\n      <td>1/22/20</td>\n      <td>0</td>\n    </tr>\n    <tr>\n      <th>1</th>\n      <td>NaN</td>\n      <td>Albania</td>\n      <td>41.15330</td>\n      <td>20.168300</td>\n      <td>1/22/20</td>\n      <td>0</td>\n    </tr>\n    <tr>\n      <th>2</th>\n      <td>NaN</td>\n      <td>Algeria</td>\n      <td>28.03390</td>\n      <td>1.659600</td>\n      <td>1/22/20</td>\n      <td>0</td>\n    </tr>\n    <tr>\n      <th>3</th>\n      <td>NaN</td>\n      <td>Andorra</td>\n      <td>42.50630</td>\n      <td>1.521800</td>\n      <td>1/22/20</td>\n      <td>0</td>\n    </tr>\n    <tr>\n      <th>4</th>\n      <td>NaN</td>\n      <td>Angola</td>\n      <td>-11.20270</td>\n      <td>17.873900</td>\n      <td>1/22/20</td>\n      <td>0</td>\n    </tr>\n  </tbody>\n</table>\n</div>"
          },
          "metadata": {},
          "execution_count": 29
        }
      ]
    },
    {
      "cell_type": "code",
      "metadata": {
        "id": "m19yUF9Q5SIW"
      },
      "source": [
        "corona_recovered_df = corona_recovered_df.melt(id_vars=['Province/State','Country/Region','Lat','Long'])"
      ],
      "execution_count": 30,
      "outputs": []
    },
    {
      "cell_type": "code",
      "metadata": {
        "id": "t8kcNDiU5Ry1"
      },
      "source": [
        "corona_recovered_df = corona_recovered_df.rename({'variable':'Date','value':'Recovered'},axis = 'columns')"
      ],
      "execution_count": 31,
      "outputs": []
    },
    {
      "cell_type": "code",
      "metadata": {
        "id": "VJHbsYOQ7kjn",
        "outputId": "8e755cdc-c2fd-460a-b4ca-c5daad651183",
        "colab": {
          "base_uri": "https://localhost:8080/",
          "height": 204
        }
      },
      "source": [
        "corona_recovered_df.head()"
      ],
      "execution_count": 32,
      "outputs": [
        {
          "output_type": "execute_result",
          "data": {
            "text/plain": "  Province/State Country/Region       Lat       Long     Date  Recovered\n0            NaN    Afghanistan  33.93911  67.709953  1/22/20          0\n1            NaN        Albania  41.15330  20.168300  1/22/20          0\n2            NaN        Algeria  28.03390   1.659600  1/22/20          0\n3            NaN        Andorra  42.50630   1.521800  1/22/20          0\n4            NaN         Angola -11.20270  17.873900  1/22/20          0",
            "text/html": "<div>\n<style scoped>\n    .dataframe tbody tr th:only-of-type {\n        vertical-align: middle;\n    }\n\n    .dataframe tbody tr th {\n        vertical-align: top;\n    }\n\n    .dataframe thead th {\n        text-align: right;\n    }\n</style>\n<table border=\"1\" class=\"dataframe\">\n  <thead>\n    <tr style=\"text-align: right;\">\n      <th></th>\n      <th>Province/State</th>\n      <th>Country/Region</th>\n      <th>Lat</th>\n      <th>Long</th>\n      <th>Date</th>\n      <th>Recovered</th>\n    </tr>\n  </thead>\n  <tbody>\n    <tr>\n      <th>0</th>\n      <td>NaN</td>\n      <td>Afghanistan</td>\n      <td>33.93911</td>\n      <td>67.709953</td>\n      <td>1/22/20</td>\n      <td>0</td>\n    </tr>\n    <tr>\n      <th>1</th>\n      <td>NaN</td>\n      <td>Albania</td>\n      <td>41.15330</td>\n      <td>20.168300</td>\n      <td>1/22/20</td>\n      <td>0</td>\n    </tr>\n    <tr>\n      <th>2</th>\n      <td>NaN</td>\n      <td>Algeria</td>\n      <td>28.03390</td>\n      <td>1.659600</td>\n      <td>1/22/20</td>\n      <td>0</td>\n    </tr>\n    <tr>\n      <th>3</th>\n      <td>NaN</td>\n      <td>Andorra</td>\n      <td>42.50630</td>\n      <td>1.521800</td>\n      <td>1/22/20</td>\n      <td>0</td>\n    </tr>\n    <tr>\n      <th>4</th>\n      <td>NaN</td>\n      <td>Angola</td>\n      <td>-11.20270</td>\n      <td>17.873900</td>\n      <td>1/22/20</td>\n      <td>0</td>\n    </tr>\n  </tbody>\n</table>\n</div>"
          },
          "metadata": {},
          "execution_count": 32
        }
      ]
    },
    {
      "cell_type": "code",
      "metadata": {
        "id": "4mAYqPfs7kna"
      },
      "source": [
        "combined_df = [corona_confirmed_df, corona_death_df, corona_recovered_df]\n",
        "combined_df = [df.set_index(['Province/State','Country/Region','Lat','Long','Date']) for df in combined_df]\n",
        "combined_df = combined_df[0].join(combined_df[1:])"
      ],
      "execution_count": 33,
      "outputs": []
    },
    {
      "cell_type": "code",
      "metadata": {
        "id": "ENNBBlkS7kqS",
        "outputId": "eaa0cdb8-f8cb-44d1-c3e0-3b067d77620c",
        "colab": {
          "base_uri": "https://localhost:8080/",
          "height": 235
        }
      },
      "source": [
        "combined_df.head()"
      ],
      "execution_count": 34,
      "outputs": [
        {
          "output_type": "execute_result",
          "data": {
            "text/plain": "                                                           Confirmed  Death  \\\nProvince/State Country/Region Lat       Long      Date                        \nNaN            Afghanistan     33.93911 67.709953 1/22/20        0.0    0.0   \n               Albania         41.15330 20.168300 1/22/20        0.0    0.0   \n               Algeria         28.03390 1.659600  1/22/20        0.0    0.0   \n               Andorra         42.50630 1.521800  1/22/20        0.0    0.0   \n               Angola         -11.20270 17.873900 1/22/20        0.0    0.0   \n\n                                                           Recovered  \nProvince/State Country/Region Lat       Long      Date                \nNaN            Afghanistan     33.93911 67.709953 1/22/20        0.0  \n               Albania         41.15330 20.168300 1/22/20        0.0  \n               Algeria         28.03390 1.659600  1/22/20        0.0  \n               Andorra         42.50630 1.521800  1/22/20        0.0  \n               Angola         -11.20270 17.873900 1/22/20        0.0  ",
            "text/html": "<div>\n<style scoped>\n    .dataframe tbody tr th:only-of-type {\n        vertical-align: middle;\n    }\n\n    .dataframe tbody tr th {\n        vertical-align: top;\n    }\n\n    .dataframe thead th {\n        text-align: right;\n    }\n</style>\n<table border=\"1\" class=\"dataframe\">\n  <thead>\n    <tr style=\"text-align: right;\">\n      <th></th>\n      <th></th>\n      <th></th>\n      <th></th>\n      <th></th>\n      <th>Confirmed</th>\n      <th>Death</th>\n      <th>Recovered</th>\n    </tr>\n    <tr>\n      <th>Province/State</th>\n      <th>Country/Region</th>\n      <th>Lat</th>\n      <th>Long</th>\n      <th>Date</th>\n      <th></th>\n      <th></th>\n      <th></th>\n    </tr>\n  </thead>\n  <tbody>\n    <tr>\n      <th rowspan=\"5\" valign=\"top\">NaN</th>\n      <th>Afghanistan</th>\n      <th>33.93911</th>\n      <th>67.709953</th>\n      <th>1/22/20</th>\n      <td>0.0</td>\n      <td>0.0</td>\n      <td>0.0</td>\n    </tr>\n    <tr>\n      <th>Albania</th>\n      <th>41.15330</th>\n      <th>20.168300</th>\n      <th>1/22/20</th>\n      <td>0.0</td>\n      <td>0.0</td>\n      <td>0.0</td>\n    </tr>\n    <tr>\n      <th>Algeria</th>\n      <th>28.03390</th>\n      <th>1.659600</th>\n      <th>1/22/20</th>\n      <td>0.0</td>\n      <td>0.0</td>\n      <td>0.0</td>\n    </tr>\n    <tr>\n      <th>Andorra</th>\n      <th>42.50630</th>\n      <th>1.521800</th>\n      <th>1/22/20</th>\n      <td>0.0</td>\n      <td>0.0</td>\n      <td>0.0</td>\n    </tr>\n    <tr>\n      <th>Angola</th>\n      <th>-11.20270</th>\n      <th>17.873900</th>\n      <th>1/22/20</th>\n      <td>0.0</td>\n      <td>0.0</td>\n      <td>0.0</td>\n    </tr>\n  </tbody>\n</table>\n</div>"
          },
          "metadata": {},
          "execution_count": 34
        }
      ]
    },
    {
      "cell_type": "code",
      "metadata": {
        "id": "R6GsRaIm7kvj"
      },
      "source": [
        "combined_df = combined_df.reset_index()"
      ],
      "execution_count": 35,
      "outputs": []
    },
    {
      "cell_type": "code",
      "metadata": {
        "id": "AjPrkTKT7ky8",
        "outputId": "869e73a4-53cb-4422-b421-afb652899f7f",
        "colab": {
          "base_uri": "https://localhost:8080/",
          "height": 204
        }
      },
      "source": [
        "combined_df.head()"
      ],
      "execution_count": 36,
      "outputs": [
        {
          "output_type": "execute_result",
          "data": {
            "text/plain": "  Province/State Country/Region       Lat       Long     Date  Confirmed  \\\n0            NaN    Afghanistan  33.93911  67.709953  1/22/20        0.0   \n1            NaN        Albania  41.15330  20.168300  1/22/20        0.0   \n2            NaN        Algeria  28.03390   1.659600  1/22/20        0.0   \n3            NaN        Andorra  42.50630   1.521800  1/22/20        0.0   \n4            NaN         Angola -11.20270  17.873900  1/22/20        0.0   \n\n   Death  Recovered  \n0    0.0        0.0  \n1    0.0        0.0  \n2    0.0        0.0  \n3    0.0        0.0  \n4    0.0        0.0  ",
            "text/html": "<div>\n<style scoped>\n    .dataframe tbody tr th:only-of-type {\n        vertical-align: middle;\n    }\n\n    .dataframe tbody tr th {\n        vertical-align: top;\n    }\n\n    .dataframe thead th {\n        text-align: right;\n    }\n</style>\n<table border=\"1\" class=\"dataframe\">\n  <thead>\n    <tr style=\"text-align: right;\">\n      <th></th>\n      <th>Province/State</th>\n      <th>Country/Region</th>\n      <th>Lat</th>\n      <th>Long</th>\n      <th>Date</th>\n      <th>Confirmed</th>\n      <th>Death</th>\n      <th>Recovered</th>\n    </tr>\n  </thead>\n  <tbody>\n    <tr>\n      <th>0</th>\n      <td>NaN</td>\n      <td>Afghanistan</td>\n      <td>33.93911</td>\n      <td>67.709953</td>\n      <td>1/22/20</td>\n      <td>0.0</td>\n      <td>0.0</td>\n      <td>0.0</td>\n    </tr>\n    <tr>\n      <th>1</th>\n      <td>NaN</td>\n      <td>Albania</td>\n      <td>41.15330</td>\n      <td>20.168300</td>\n      <td>1/22/20</td>\n      <td>0.0</td>\n      <td>0.0</td>\n      <td>0.0</td>\n    </tr>\n    <tr>\n      <th>2</th>\n      <td>NaN</td>\n      <td>Algeria</td>\n      <td>28.03390</td>\n      <td>1.659600</td>\n      <td>1/22/20</td>\n      <td>0.0</td>\n      <td>0.0</td>\n      <td>0.0</td>\n    </tr>\n    <tr>\n      <th>3</th>\n      <td>NaN</td>\n      <td>Andorra</td>\n      <td>42.50630</td>\n      <td>1.521800</td>\n      <td>1/22/20</td>\n      <td>0.0</td>\n      <td>0.0</td>\n      <td>0.0</td>\n    </tr>\n    <tr>\n      <th>4</th>\n      <td>NaN</td>\n      <td>Angola</td>\n      <td>-11.20270</td>\n      <td>17.873900</td>\n      <td>1/22/20</td>\n      <td>0.0</td>\n      <td>0.0</td>\n      <td>0.0</td>\n    </tr>\n  </tbody>\n</table>\n</div>"
          },
          "metadata": {},
          "execution_count": 36
        }
      ]
    },
    {
      "cell_type": "code",
      "metadata": {
        "id": "fixMLzNR7k17"
      },
      "source": [
        "combined_df[['Lat','Long','Confirmed','Death','Recovered']] = combined_df[['Lat','Long','Confirmed','Death','Recovered']].apply(pd.to_numeric)"
      ],
      "execution_count": 37,
      "outputs": []
    },
    {
      "cell_type": "code",
      "metadata": {
        "id": "x6GYzbAt7k72"
      },
      "source": [
        "combined_df[['Date']] = combined_df[['Date']].apply(pd.to_datetime)"
      ],
      "execution_count": 38,
      "outputs": []
    },
    {
      "cell_type": "code",
      "metadata": {
        "id": "ITgwMPJGEt3d"
      },
      "source": [
        "combined_df.Lat = combined_df.Lat.astype(int)\n",
        "combined_df.Long = combined_df.Long.astype(int)\n",
        "combined_df.Confirmed = combined_df.Confirmed.astype(int)\n",
        "combined_df.Death = combined_df.Death.astype(int)\n",
        "combined_df.Recovered = combined_df.Recovered.fillna(0.0).astype(int)"
      ],
      "execution_count": 58,
      "outputs": [
        {
          "output_type": "error",
          "ename": "ValueError",
          "evalue": "Cannot convert non-finite values (NA or inf) to integer",
          "traceback": [
            "\u001b[0;31m---------------------------------------------------------------------------\u001b[0m",
            "\u001b[0;31mValueError\u001b[0m                                Traceback (most recent call last)",
            "\u001b[0;32m&lt;ipython-input-58-3983fd401045&gt;\u001b[0m in \u001b[0;36m&lt;module&gt;\u001b[0;34m\u001b[0m\n\u001b[1;32m      2\u001b[0m \u001b[0mcombined_df\u001b[0m\u001b[0;34m.\u001b[0m\u001b[0mLong\u001b[0m \u001b[0;34m=\u001b[0m \u001b[0mcombined_df\u001b[0m\u001b[0;34m.\u001b[0m\u001b[0mLong\u001b[0m\u001b[0;34m.\u001b[0m\u001b[0mastype\u001b[0m\u001b[0;34m(\u001b[0m\u001b[0mint\u001b[0m\u001b[0;34m)\u001b[0m\u001b[0;34m\u001b[0m\u001b[0;34m\u001b[0m\u001b[0m\n\u001b[1;32m      3\u001b[0m \u001b[0mcombined_df\u001b[0m\u001b[0;34m.\u001b[0m\u001b[0mConfirmed\u001b[0m \u001b[0;34m=\u001b[0m \u001b[0mcombined_df\u001b[0m\u001b[0;34m.\u001b[0m\u001b[0mConfirmed\u001b[0m\u001b[0;34m.\u001b[0m\u001b[0mastype\u001b[0m\u001b[0;34m(\u001b[0m\u001b[0mint\u001b[0m\u001b[0;34m)\u001b[0m\u001b[0;34m\u001b[0m\u001b[0;34m\u001b[0m\u001b[0m\n\u001b[0;32m----&gt; 4\u001b[0;31m \u001b[0mcombined_df\u001b[0m\u001b[0;34m.\u001b[0m\u001b[0mDeath\u001b[0m \u001b[0;34m=\u001b[0m \u001b[0mcombined_df\u001b[0m\u001b[0;34m.\u001b[0m\u001b[0mDeath\u001b[0m\u001b[0;34m.\u001b[0m\u001b[0mastype\u001b[0m\u001b[0;34m(\u001b[0m\u001b[0mint\u001b[0m\u001b[0;34m)\u001b[0m\u001b[0;34m\u001b[0m\u001b[0;34m\u001b[0m\u001b[0m\n\u001b[0m\u001b[1;32m      5\u001b[0m \u001b[0mcombined_df\u001b[0m\u001b[0;34m.\u001b[0m\u001b[0mRecovered\u001b[0m \u001b[0;34m=\u001b[0m \u001b[0mcombined_df\u001b[0m\u001b[0;34m.\u001b[0m\u001b[0mRecovered\u001b[0m\u001b[0;34m.\u001b[0m\u001b[0mfillna\u001b[0m\u001b[0;34m(\u001b[0m\u001b[0;36m0.0\u001b[0m\u001b[0;34m)\u001b[0m\u001b[0;34m.\u001b[0m\u001b[0mastype\u001b[0m\u001b[0;34m(\u001b[0m\u001b[0mint\u001b[0m\u001b[0;34m)\u001b[0m\u001b[0;34m\u001b[0m\u001b[0;34m\u001b[0m\u001b[0m\n",
            "\u001b[0;32m~/.local/lib/python3.8/site-packages/pandas/core/generic.py\u001b[0m in \u001b[0;36mastype\u001b[0;34m(self, dtype, copy, errors)\u001b[0m\n\u001b[1;32m   5544\u001b[0m         \u001b[0;32melse\u001b[0m\u001b[0;34m:\u001b[0m\u001b[0;34m\u001b[0m\u001b[0;34m\u001b[0m\u001b[0m\n\u001b[1;32m   5545\u001b[0m             \u001b[0;31m# else, only a single dtype is given\u001b[0m\u001b[0;34m\u001b[0m\u001b[0;34m\u001b[0m\u001b[0;34m\u001b[0m\u001b[0m\n\u001b[0;32m-&gt; 5546\u001b[0;31m             \u001b[0mnew_data\u001b[0m \u001b[0;34m=\u001b[0m \u001b[0mself\u001b[0m\u001b[0;34m.\u001b[0m\u001b[0m_mgr\u001b[0m\u001b[0;34m.\u001b[0m\u001b[0mastype\u001b[0m\u001b[0;34m(\u001b[0m\u001b[0mdtype\u001b[0m\u001b[0;34m=\u001b[0m\u001b[0mdtype\u001b[0m\u001b[0;34m,\u001b[0m \u001b[0mcopy\u001b[0m\u001b[0;34m=\u001b[0m\u001b[0mcopy\u001b[0m\u001b[0;34m,\u001b[0m \u001b[0merrors\u001b[0m\u001b[0;34m=\u001b[0m\u001b[0merrors\u001b[0m\u001b[0;34m,\u001b[0m\u001b[0;34m)\u001b[0m\u001b[0;34m\u001b[0m\u001b[0;34m\u001b[0m\u001b[0m\n\u001b[0m\u001b[1;32m   5547\u001b[0m             \u001b[0;32mreturn\u001b[0m \u001b[0mself\u001b[0m\u001b[0;34m.\u001b[0m\u001b[0m_constructor\u001b[0m\u001b[0;34m(\u001b[0m\u001b[0mnew_data\u001b[0m\u001b[0;34m)\u001b[0m\u001b[0;34m.\u001b[0m\u001b[0m__finalize__\u001b[0m\u001b[0;34m(\u001b[0m\u001b[0mself\u001b[0m\u001b[0;34m,\u001b[0m \u001b[0mmethod\u001b[0m\u001b[0;34m=\u001b[0m\u001b[0;34m&quot;astype&quot;\u001b[0m\u001b[0;34m)\u001b[0m\u001b[0;34m\u001b[0m\u001b[0;34m\u001b[0m\u001b[0m\n\u001b[1;32m   5548\u001b[0m \u001b[0;34m\u001b[0m\u001b[0m\n",
            "\u001b[0;32m~/.local/lib/python3.8/site-packages/pandas/core/internals/managers.py\u001b[0m in \u001b[0;36mastype\u001b[0;34m(self, dtype, copy, errors)\u001b[0m\n\u001b[1;32m    593\u001b[0m         \u001b[0mself\u001b[0m\u001b[0;34m,\u001b[0m \u001b[0mdtype\u001b[0m\u001b[0;34m,\u001b[0m \u001b[0mcopy\u001b[0m\u001b[0;34m:\u001b[0m \u001b[0mbool\u001b[0m \u001b[0;34m=\u001b[0m \u001b[0;32mFalse\u001b[0m\u001b[0;34m,\u001b[0m \u001b[0merrors\u001b[0m\u001b[0;34m:\u001b[0m \u001b[0mstr\u001b[0m \u001b[0;34m=\u001b[0m \u001b[0;34m&quot;raise&quot;\u001b[0m\u001b[0;34m\u001b[0m\u001b[0;34m\u001b[0m\u001b[0m\n\u001b[1;32m    594\u001b[0m     ) -&gt; &quot;BlockManager&quot;:\n\u001b[0;32m--&gt; 595\u001b[0;31m         \u001b[0;32mreturn\u001b[0m \u001b[0mself\u001b[0m\u001b[0;34m.\u001b[0m\u001b[0mapply\u001b[0m\u001b[0;34m(\u001b[0m\u001b[0;34m&quot;astype&quot;\u001b[0m\u001b[0;34m,\u001b[0m \u001b[0mdtype\u001b[0m\u001b[0;34m=\u001b[0m\u001b[0mdtype\u001b[0m\u001b[0;34m,\u001b[0m \u001b[0mcopy\u001b[0m\u001b[0;34m=\u001b[0m\u001b[0mcopy\u001b[0m\u001b[0;34m,\u001b[0m \u001b[0merrors\u001b[0m\u001b[0;34m=\u001b[0m\u001b[0merrors\u001b[0m\u001b[0;34m)\u001b[0m\u001b[0;34m\u001b[0m\u001b[0;34m\u001b[0m\u001b[0m\n\u001b[0m\u001b[1;32m    596\u001b[0m \u001b[0;34m\u001b[0m\u001b[0m\n\u001b[1;32m    597\u001b[0m     def convert(\n",
            "\u001b[0;32m~/.local/lib/python3.8/site-packages/pandas/core/internals/managers.py\u001b[0m in \u001b[0;36mapply\u001b[0;34m(self, f, align_keys, **kwargs)\u001b[0m\n\u001b[1;32m    404\u001b[0m                 \u001b[0mapplied\u001b[0m \u001b[0;34m=\u001b[0m \u001b[0mb\u001b[0m\u001b[0;34m.\u001b[0m\u001b[0mapply\u001b[0m\u001b[0;34m(\u001b[0m\u001b[0mf\u001b[0m\u001b[0;34m,\u001b[0m \u001b[0;34m**\u001b[0m\u001b[0mkwargs\u001b[0m\u001b[0;34m)\u001b[0m\u001b[0;34m\u001b[0m\u001b[0;34m\u001b[0m\u001b[0m\n\u001b[1;32m    405\u001b[0m             \u001b[0;32melse\u001b[0m\u001b[0;34m:\u001b[0m\u001b[0;34m\u001b[0m\u001b[0;34m\u001b[0m\u001b[0m\n\u001b[0;32m--&gt; 406\u001b[0;31m                 \u001b[0mapplied\u001b[0m \u001b[0;34m=\u001b[0m \u001b[0mgetattr\u001b[0m\u001b[0;34m(\u001b[0m\u001b[0mb\u001b[0m\u001b[0;34m,\u001b[0m \u001b[0mf\u001b[0m\u001b[0;34m)\u001b[0m\u001b[0;34m(\u001b[0m\u001b[0;34m**\u001b[0m\u001b[0mkwargs\u001b[0m\u001b[0;34m)\u001b[0m\u001b[0;34m\u001b[0m\u001b[0;34m\u001b[0m\u001b[0m\n\u001b[0m\u001b[1;32m    407\u001b[0m             \u001b[0mresult_blocks\u001b[0m \u001b[0;34m=\u001b[0m \u001b[0m_extend_blocks\u001b[0m\u001b[0;34m(\u001b[0m\u001b[0mapplied\u001b[0m\u001b[0;34m,\u001b[0m \u001b[0mresult_blocks\u001b[0m\u001b[0;34m)\u001b[0m\u001b[0;34m\u001b[0m\u001b[0;34m\u001b[0m\u001b[0m\n\u001b[1;32m    408\u001b[0m \u001b[0;34m\u001b[0m\u001b[0m\n",
            "\u001b[0;32m~/.local/lib/python3.8/site-packages/pandas/core/internals/blocks.py\u001b[0m in \u001b[0;36mastype\u001b[0;34m(self, dtype, copy, errors)\u001b[0m\n\u001b[1;32m    593\u001b[0m             \u001b[0mvals1d\u001b[0m \u001b[0;34m=\u001b[0m \u001b[0mvalues\u001b[0m\u001b[0;34m.\u001b[0m\u001b[0mravel\u001b[0m\u001b[0;34m(\u001b[0m\u001b[0;34m)\u001b[0m\u001b[0;34m\u001b[0m\u001b[0;34m\u001b[0m\u001b[0m\n\u001b[1;32m    594\u001b[0m             \u001b[0;32mtry\u001b[0m\u001b[0;34m:\u001b[0m\u001b[0;34m\u001b[0m\u001b[0;34m\u001b[0m\u001b[0m\n\u001b[0;32m--&gt; 595\u001b[0;31m                 \u001b[0mvalues\u001b[0m \u001b[0;34m=\u001b[0m \u001b[0mastype_nansafe\u001b[0m\u001b[0;34m(\u001b[0m\u001b[0mvals1d\u001b[0m\u001b[0;34m,\u001b[0m \u001b[0mdtype\u001b[0m\u001b[0;34m,\u001b[0m \u001b[0mcopy\u001b[0m\u001b[0;34m=\u001b[0m\u001b[0;32mTrue\u001b[0m\u001b[0;34m)\u001b[0m\u001b[0;34m\u001b[0m\u001b[0;34m\u001b[0m\u001b[0m\n\u001b[0m\u001b[1;32m    596\u001b[0m             \u001b[0;32mexcept\u001b[0m \u001b[0;34m(\u001b[0m\u001b[0mValueError\u001b[0m\u001b[0;34m,\u001b[0m \u001b[0mTypeError\u001b[0m\u001b[0;34m)\u001b[0m\u001b[0;34m:\u001b[0m\u001b[0;34m\u001b[0m\u001b[0;34m\u001b[0m\u001b[0m\n\u001b[1;32m    597\u001b[0m                 \u001b[0;31m# e.g. astype_nansafe can fail on object-dtype of strings\u001b[0m\u001b[0;34m\u001b[0m\u001b[0;34m\u001b[0m\u001b[0;34m\u001b[0m\u001b[0m\n",
            "\u001b[0;32m~/.local/lib/python3.8/site-packages/pandas/core/dtypes/cast.py\u001b[0m in \u001b[0;36mastype_nansafe\u001b[0;34m(arr, dtype, copy, skipna)\u001b[0m\n\u001b[1;32m    964\u001b[0m \u001b[0;34m\u001b[0m\u001b[0m\n\u001b[1;32m    965\u001b[0m         \u001b[0;32mif\u001b[0m \u001b[0;32mnot\u001b[0m \u001b[0mnp\u001b[0m\u001b[0;34m.\u001b[0m\u001b[0misfinite\u001b[0m\u001b[0;34m(\u001b[0m\u001b[0marr\u001b[0m\u001b[0;34m)\u001b[0m\u001b[0;34m.\u001b[0m\u001b[0mall\u001b[0m\u001b[0;34m(\u001b[0m\u001b[0;34m)\u001b[0m\u001b[0;34m:\u001b[0m\u001b[0;34m\u001b[0m\u001b[0;34m\u001b[0m\u001b[0m\n\u001b[0;32m--&gt; 966\u001b[0;31m             \u001b[0;32mraise\u001b[0m \u001b[0mValueError\u001b[0m\u001b[0;34m(\u001b[0m\u001b[0;34m&quot;Cannot convert non-finite values (NA or inf) to integer&quot;\u001b[0m\u001b[0;34m)\u001b[0m\u001b[0;34m\u001b[0m\u001b[0;34m\u001b[0m\u001b[0m\n\u001b[0m\u001b[1;32m    967\u001b[0m \u001b[0;34m\u001b[0m\u001b[0m\n\u001b[1;32m    968\u001b[0m     \u001b[0;32melif\u001b[0m \u001b[0mis_object_dtype\u001b[0m\u001b[0;34m(\u001b[0m\u001b[0marr\u001b[0m\u001b[0;34m)\u001b[0m\u001b[0;34m:\u001b[0m\u001b[0;34m\u001b[0m\u001b[0;34m\u001b[0m\u001b[0m\n",
            "\u001b[0;31mValueError\u001b[0m: Cannot convert non-finite values (NA or inf) to integer"
          ]
        }
      ]
    },
    {
      "cell_type": "code",
      "metadata": {
        "id": "Szr37Aw47k_N",
        "outputId": "c2b6de02-bc2e-4889-8304-c5ce8f99dae8",
        "colab": {
          "base_uri": "https://localhost:8080/",
          "height": 170
        }
      },
      "source": [
        "combined_df.dtypes"
      ],
      "execution_count": 63,
      "outputs": [
        {
          "output_type": "execute_result",
          "data": {
            "text/plain": "Province/State            object\nCountry/Region            object\nLat                        int64\nLong                       int64\nDate              datetime64[ns]\nConfirmed                  int64\nDeath                    float64\nRecovered                float64\ndtype: object"
          },
          "metadata": {},
          "execution_count": 63
        }
      ]
    },
    {
      "cell_type": "code",
      "metadata": {
        "id": "u3NhwO8c7k53",
        "outputId": "c0b5d8b2-99c4-47b0-a273-1a702b339991",
        "colab": {
          "base_uri": "https://localhost:8080/",
          "height": 204
        }
      },
      "source": [
        "combined_df.head()"
      ],
      "execution_count": 64,
      "outputs": [
        {
          "output_type": "execute_result",
          "data": {
            "text/plain": "  Province/State Country/Region  Lat  Long       Date  Confirmed  Death  \\\n0            NaN    Afghanistan   33    67 2020-01-22          0    0.0   \n1            NaN        Albania   41    20 2020-01-22          0    0.0   \n2            NaN        Algeria   28     1 2020-01-22          0    0.0   \n3            NaN        Andorra   42     1 2020-01-22          0    0.0   \n4            NaN         Angola  -11    17 2020-01-22          0    0.0   \n\n   Recovered  \n0        0.0  \n1        0.0  \n2        0.0  \n3        0.0  \n4        0.0  ",
            "text/html": "<div>\n<style scoped>\n    .dataframe tbody tr th:only-of-type {\n        vertical-align: middle;\n    }\n\n    .dataframe tbody tr th {\n        vertical-align: top;\n    }\n\n    .dataframe thead th {\n        text-align: right;\n    }\n</style>\n<table border=\"1\" class=\"dataframe\">\n  <thead>\n    <tr style=\"text-align: right;\">\n      <th></th>\n      <th>Province/State</th>\n      <th>Country/Region</th>\n      <th>Lat</th>\n      <th>Long</th>\n      <th>Date</th>\n      <th>Confirmed</th>\n      <th>Death</th>\n      <th>Recovered</th>\n    </tr>\n  </thead>\n  <tbody>\n    <tr>\n      <th>0</th>\n      <td>NaN</td>\n      <td>Afghanistan</td>\n      <td>33</td>\n      <td>67</td>\n      <td>2020-01-22</td>\n      <td>0</td>\n      <td>0.0</td>\n      <td>0.0</td>\n    </tr>\n    <tr>\n      <th>1</th>\n      <td>NaN</td>\n      <td>Albania</td>\n      <td>41</td>\n      <td>20</td>\n      <td>2020-01-22</td>\n      <td>0</td>\n      <td>0.0</td>\n      <td>0.0</td>\n    </tr>\n    <tr>\n      <th>2</th>\n      <td>NaN</td>\n      <td>Algeria</td>\n      <td>28</td>\n      <td>1</td>\n      <td>2020-01-22</td>\n      <td>0</td>\n      <td>0.0</td>\n      <td>0.0</td>\n    </tr>\n    <tr>\n      <th>3</th>\n      <td>NaN</td>\n      <td>Andorra</td>\n      <td>42</td>\n      <td>1</td>\n      <td>2020-01-22</td>\n      <td>0</td>\n      <td>0.0</td>\n      <td>0.0</td>\n    </tr>\n    <tr>\n      <th>4</th>\n      <td>NaN</td>\n      <td>Angola</td>\n      <td>-11</td>\n      <td>17</td>\n      <td>2020-01-22</td>\n      <td>0</td>\n      <td>0.0</td>\n      <td>0.0</td>\n    </tr>\n  </tbody>\n</table>\n</div>"
          },
          "metadata": {},
          "execution_count": 64
        }
      ]
    },
    {
      "cell_type": "code",
      "metadata": {
        "id": "mRaSNb75HjFm"
      },
      "source": [
        "combined_df = combined_df.rename({'Province/State':'State','Country/Region':'Country'},axis = 'columns')"
      ],
      "execution_count": 65,
      "outputs": []
    },
    {
      "cell_type": "code",
      "metadata": {
        "id": "IlA7DigaHjfJ",
        "outputId": "3ebf7992-5cb4-494e-8c6b-913e2e980628",
        "colab": {
          "base_uri": "https://localhost:8080/",
          "height": 419
        }
      },
      "source": [
        "combined_df.head(5000)"
      ],
      "execution_count": 67,
      "outputs": [
        {
          "output_type": "execute_result",
          "data": {
            "text/plain": "     State                Country  Lat  Long       Date  Confirmed  Death  \\\n0      NaN            Afghanistan   33    67 2020-01-22          0    0.0   \n1      NaN                Albania   41    20 2020-01-22          0    0.0   \n2      NaN                Algeria   28     1 2020-01-22          0    0.0   \n3      NaN                Andorra   42     1 2020-01-22          0    0.0   \n4      NaN                 Angola  -11    17 2020-01-22          0    0.0   \n...    ...                    ...  ...   ...        ...        ...    ...   \n4995   NaN                Romania   45    24 2020-02-09          0    0.0   \n4996   NaN                 Russia   61   105 2020-02-09          2    NaN   \n4997   NaN                 Rwanda   -1    29 2020-02-09          0    0.0   \n4998   NaN  Saint Kitts and Nevis   17   -62 2020-02-09          0    0.0   \n4999   NaN            Saint Lucia   13   -60 2020-02-09          0    0.0   \n\n      Recovered  \n0           0.0  \n1           0.0  \n2           0.0  \n3           0.0  \n4           0.0  \n...         ...  \n4995        0.0  \n4996        0.0  \n4997        0.0  \n4998        0.0  \n4999        0.0  \n\n[5000 rows x 8 columns]",
            "text/html": "<div>\n<style scoped>\n    .dataframe tbody tr th:only-of-type {\n        vertical-align: middle;\n    }\n\n    .dataframe tbody tr th {\n        vertical-align: top;\n    }\n\n    .dataframe thead th {\n        text-align: right;\n    }\n</style>\n<table border=\"1\" class=\"dataframe\">\n  <thead>\n    <tr style=\"text-align: right;\">\n      <th></th>\n      <th>State</th>\n      <th>Country</th>\n      <th>Lat</th>\n      <th>Long</th>\n      <th>Date</th>\n      <th>Confirmed</th>\n      <th>Death</th>\n      <th>Recovered</th>\n    </tr>\n  </thead>\n  <tbody>\n    <tr>\n      <th>0</th>\n      <td>NaN</td>\n      <td>Afghanistan</td>\n      <td>33</td>\n      <td>67</td>\n      <td>2020-01-22</td>\n      <td>0</td>\n      <td>0.0</td>\n      <td>0.0</td>\n    </tr>\n    <tr>\n      <th>1</th>\n      <td>NaN</td>\n      <td>Albania</td>\n      <td>41</td>\n      <td>20</td>\n      <td>2020-01-22</td>\n      <td>0</td>\n      <td>0.0</td>\n      <td>0.0</td>\n    </tr>\n    <tr>\n      <th>2</th>\n      <td>NaN</td>\n      <td>Algeria</td>\n      <td>28</td>\n      <td>1</td>\n      <td>2020-01-22</td>\n      <td>0</td>\n      <td>0.0</td>\n      <td>0.0</td>\n    </tr>\n    <tr>\n      <th>3</th>\n      <td>NaN</td>\n      <td>Andorra</td>\n      <td>42</td>\n      <td>1</td>\n      <td>2020-01-22</td>\n      <td>0</td>\n      <td>0.0</td>\n      <td>0.0</td>\n    </tr>\n    <tr>\n      <th>4</th>\n      <td>NaN</td>\n      <td>Angola</td>\n      <td>-11</td>\n      <td>17</td>\n      <td>2020-01-22</td>\n      <td>0</td>\n      <td>0.0</td>\n      <td>0.0</td>\n    </tr>\n    <tr>\n      <th>...</th>\n      <td>...</td>\n      <td>...</td>\n      <td>...</td>\n      <td>...</td>\n      <td>...</td>\n      <td>...</td>\n      <td>...</td>\n      <td>...</td>\n    </tr>\n    <tr>\n      <th>4995</th>\n      <td>NaN</td>\n      <td>Romania</td>\n      <td>45</td>\n      <td>24</td>\n      <td>2020-02-09</td>\n      <td>0</td>\n      <td>0.0</td>\n      <td>0.0</td>\n    </tr>\n    <tr>\n      <th>4996</th>\n      <td>NaN</td>\n      <td>Russia</td>\n      <td>61</td>\n      <td>105</td>\n      <td>2020-02-09</td>\n      <td>2</td>\n      <td>NaN</td>\n      <td>0.0</td>\n    </tr>\n    <tr>\n      <th>4997</th>\n      <td>NaN</td>\n      <td>Rwanda</td>\n      <td>-1</td>\n      <td>29</td>\n      <td>2020-02-09</td>\n      <td>0</td>\n      <td>0.0</td>\n      <td>0.0</td>\n    </tr>\n    <tr>\n      <th>4998</th>\n      <td>NaN</td>\n      <td>Saint Kitts and Nevis</td>\n      <td>17</td>\n      <td>-62</td>\n      <td>2020-02-09</td>\n      <td>0</td>\n      <td>0.0</td>\n      <td>0.0</td>\n    </tr>\n    <tr>\n      <th>4999</th>\n      <td>NaN</td>\n      <td>Saint Lucia</td>\n      <td>13</td>\n      <td>-60</td>\n      <td>2020-02-09</td>\n      <td>0</td>\n      <td>0.0</td>\n      <td>0.0</td>\n    </tr>\n  </tbody>\n</table>\n<p>5000 rows × 8 columns</p>\n</div>"
          },
          "metadata": {},
          "execution_count": 67
        }
      ]
    },
    {
      "cell_type": "code",
      "metadata": {
        "id": "4z4PhL2nHjiS",
        "outputId": "a314aa36-47ba-4691-dd88-9b5feee23b04",
        "colab": {
          "base_uri": "https://localhost:8080/",
          "height": 170
        }
      },
      "source": [
        "combined_df.isnull().any()"
      ],
      "execution_count": 68,
      "outputs": [
        {
          "output_type": "execute_result",
          "data": {
            "text/plain": "State         True\nCountry      False\nLat          False\nLong         False\nDate         False\nConfirmed    False\nDeath         True\nRecovered     True\ndtype: bool"
          },
          "metadata": {},
          "execution_count": 68
        }
      ]
    },
    {
      "cell_type": "code",
      "metadata": {
        "id": "NZff6vEeHjli",
        "outputId": "a1841c22-1984-4825-ddb3-15c377a7594a",
        "colab": {
          "base_uri": "https://localhost:8080/",
          "height": 170
        }
      },
      "source": [
        "combined_df.count()"
      ],
      "execution_count": 69,
      "outputs": [
        {
          "output_type": "execute_result",
          "data": {
            "text/plain": "State        20898\nCountry      68628\nLat          68628\nLong         68628\nDate         68628\nConfirmed    68628\nDeath        62436\nRecovered    63726\ndtype: int64"
          },
          "metadata": {},
          "execution_count": 69
        }
      ]
    },
    {
      "cell_type": "code",
      "metadata": {
        "id": "TTV5nvOtHjou",
        "outputId": "02a531d3-55d3-4dd8-ea33-2b1611210b46",
        "colab": {
          "base_uri": "https://localhost:8080/",
          "height": 450
        }
      },
      "source": [
        "combined_df.set_index('Country').filter(like=\"India\",axis=0)"
      ],
      "execution_count": 70,
      "outputs": [
        {
          "output_type": "execute_result",
          "data": {
            "text/plain": "        State  Lat  Long       Date  Confirmed     Death  Recovered\nCountry                                                            \nIndia     NaN   20    78 2020-01-22          0       0.0        0.0\nIndia     NaN   20    78 2020-01-23          0       0.0        0.0\nIndia     NaN   20    78 2020-01-24          0       0.0        0.0\nIndia     NaN   20    78 2020-01-25          0       0.0        0.0\nIndia     NaN   20    78 2020-01-26          0       0.0        0.0\n...       ...  ...   ...        ...        ...       ...        ...\nIndia     NaN   20    78 2020-10-01    6394068   99773.0  5352078.0\nIndia     NaN   20    78 2020-10-02    6473544  100842.0  5427706.0\nIndia     NaN   20    78 2020-10-03    6549373  101782.0  5509966.0\nIndia     NaN   20    78 2020-10-04    6623815  102685.0  5586703.0\nIndia     NaN   20    78 2020-10-05    6685082  103569.0  5662490.0\n\n[258 rows x 7 columns]",
            "text/html": "<div>\n<style scoped>\n    .dataframe tbody tr th:only-of-type {\n        vertical-align: middle;\n    }\n\n    .dataframe tbody tr th {\n        vertical-align: top;\n    }\n\n    .dataframe thead th {\n        text-align: right;\n    }\n</style>\n<table border=\"1\" class=\"dataframe\">\n  <thead>\n    <tr style=\"text-align: right;\">\n      <th></th>\n      <th>State</th>\n      <th>Lat</th>\n      <th>Long</th>\n      <th>Date</th>\n      <th>Confirmed</th>\n      <th>Death</th>\n      <th>Recovered</th>\n    </tr>\n    <tr>\n      <th>Country</th>\n      <th></th>\n      <th></th>\n      <th></th>\n      <th></th>\n      <th></th>\n      <th></th>\n      <th></th>\n    </tr>\n  </thead>\n  <tbody>\n    <tr>\n      <th>India</th>\n      <td>NaN</td>\n      <td>20</td>\n      <td>78</td>\n      <td>2020-01-22</td>\n      <td>0</td>\n      <td>0.0</td>\n      <td>0.0</td>\n    </tr>\n    <tr>\n      <th>India</th>\n      <td>NaN</td>\n      <td>20</td>\n      <td>78</td>\n      <td>2020-01-23</td>\n      <td>0</td>\n      <td>0.0</td>\n      <td>0.0</td>\n    </tr>\n    <tr>\n      <th>India</th>\n      <td>NaN</td>\n      <td>20</td>\n      <td>78</td>\n      <td>2020-01-24</td>\n      <td>0</td>\n      <td>0.0</td>\n      <td>0.0</td>\n    </tr>\n    <tr>\n      <th>India</th>\n      <td>NaN</td>\n      <td>20</td>\n      <td>78</td>\n      <td>2020-01-25</td>\n      <td>0</td>\n      <td>0.0</td>\n      <td>0.0</td>\n    </tr>\n    <tr>\n      <th>India</th>\n      <td>NaN</td>\n      <td>20</td>\n      <td>78</td>\n      <td>2020-01-26</td>\n      <td>0</td>\n      <td>0.0</td>\n      <td>0.0</td>\n    </tr>\n    <tr>\n      <th>...</th>\n      <td>...</td>\n      <td>...</td>\n      <td>...</td>\n      <td>...</td>\n      <td>...</td>\n      <td>...</td>\n      <td>...</td>\n    </tr>\n    <tr>\n      <th>India</th>\n      <td>NaN</td>\n      <td>20</td>\n      <td>78</td>\n      <td>2020-10-01</td>\n      <td>6394068</td>\n      <td>99773.0</td>\n      <td>5352078.0</td>\n    </tr>\n    <tr>\n      <th>India</th>\n      <td>NaN</td>\n      <td>20</td>\n      <td>78</td>\n      <td>2020-10-02</td>\n      <td>6473544</td>\n      <td>100842.0</td>\n      <td>5427706.0</td>\n    </tr>\n    <tr>\n      <th>India</th>\n      <td>NaN</td>\n      <td>20</td>\n      <td>78</td>\n      <td>2020-10-03</td>\n      <td>6549373</td>\n      <td>101782.0</td>\n      <td>5509966.0</td>\n    </tr>\n    <tr>\n      <th>India</th>\n      <td>NaN</td>\n      <td>20</td>\n      <td>78</td>\n      <td>2020-10-04</td>\n      <td>6623815</td>\n      <td>102685.0</td>\n      <td>5586703.0</td>\n    </tr>\n    <tr>\n      <th>India</th>\n      <td>NaN</td>\n      <td>20</td>\n      <td>78</td>\n      <td>2020-10-05</td>\n      <td>6685082</td>\n      <td>103569.0</td>\n      <td>5662490.0</td>\n    </tr>\n  </tbody>\n</table>\n<p>258 rows × 7 columns</p>\n</div>"
          },
          "metadata": {},
          "execution_count": 70
        }
      ]
    },
    {
      "cell_type": "code",
      "metadata": {
        "id": "zMHgrZNyKJNr",
        "outputId": "bfccf14b-0854-4582-d739-77431a9d88cb",
        "colab": {
          "base_uri": "https://localhost:8080/",
          "height": 221
        }
      },
      "source": [
        "combined_df[combined_df.State.isnull()]['Country'].value_counts()"
      ],
      "execution_count": 71,
      "outputs": [
        {
          "output_type": "execute_result",
          "data": {
            "text/plain": "Turkey        258\nFiji          258\nMS Zaandam    258\nThailand      258\nUS            258\n             ... \nGeorgia       258\nPoland        258\nGuinea        258\nVenezuela     258\nBhutan        258\nName: Country, Length: 185, dtype: int64"
          },
          "metadata": {},
          "execution_count": 71
        }
      ]
    },
    {
      "cell_type": "code",
      "metadata": {
        "id": "s8_EkGv-KJRV"
      },
      "source": [
        "import os, geopy"
      ],
      "execution_count": 79,
      "outputs": [
        {
          "output_type": "error",
          "ename": "ModuleNotFoundError",
          "evalue": "No module named &#39;geopy&#39;",
          "traceback": [
            "\u001b[0;31m---------------------------------------------------------------------------\u001b[0m",
            "\u001b[0;31mModuleNotFoundError\u001b[0m                       Traceback (most recent call last)",
            "\u001b[0;32m&lt;ipython-input-79-bf9fd06682a0&gt;\u001b[0m in \u001b[0;36m&lt;module&gt;\u001b[0;34m\u001b[0m\n\u001b[0;32m----&gt; 1\u001b[0;31m \u001b[0;32mimport\u001b[0m \u001b[0mos\u001b[0m\u001b[0;34m,\u001b[0m \u001b[0mgeopy\u001b[0m\u001b[0;34m\u001b[0m\u001b[0;34m\u001b[0m\u001b[0m\n\u001b[0m",
            "\u001b[0;31mModuleNotFoundError\u001b[0m: No module named &#39;geopy&#39;"
          ]
        }
      ]
    },
    {
      "cell_type": "code",
      "metadata": {
        "id": "Xuv8mZ7xKJU5"
      },
      "source": [
        "from geopy.geocoders import Nominatim"
      ],
      "execution_count": null,
      "outputs": []
    },
    {
      "cell_type": "code",
      "metadata": {
        "id": "25qyEQ0v7Y-_",
        "outputId": "5aabb821-a0c5-4a85-e3c5-27bc85645180",
        "colab": {
          "base_uri": "https://localhost:8080/",
          "height": 748
        }
      },
      "source": [
        "dir (geopy)"
      ],
      "execution_count": null,
      "outputs": [
        {
          "output_type": "execute_result",
          "data": {
            "text/plain": [
              "['ArcGIS',\n",
              " 'AzureMaps',\n",
              " 'Baidu',\n",
              " 'Bing',\n",
              " 'DataBC',\n",
              " 'GeoNames',\n",
              " 'GeocodeEarth',\n",
              " 'GeocodeFarm',\n",
              " 'GoogleV3',\n",
              " 'Here',\n",
              " 'IGNFrance',\n",
              " 'LiveAddress',\n",
              " 'Location',\n",
              " 'MapBox',\n",
              " 'Nominatim',\n",
              " 'OpenCage',\n",
              " 'OpenMapQuest',\n",
              " 'Pelias',\n",
              " 'Photon',\n",
              " 'PickPoint',\n",
              " 'Point',\n",
              " 'TomTom',\n",
              " 'What3Words',\n",
              " 'Yandex',\n",
              " '__builtins__',\n",
              " '__cached__',\n",
              " '__doc__',\n",
              " '__file__',\n",
              " '__loader__',\n",
              " '__name__',\n",
              " '__package__',\n",
              " '__path__',\n",
              " '__spec__',\n",
              " '__version__',\n",
              " 'compat',\n",
              " 'exc',\n",
              " 'format',\n",
              " 'geocoders',\n",
              " 'get_geocoder_for_service',\n",
              " 'location',\n",
              " 'point',\n",
              " 'units',\n",
              " 'util']"
            ]
          },
          "metadata": {
            "tags": []
          },
          "execution_count": 64
        }
      ]
    },
    {
      "cell_type": "code",
      "metadata": {
        "id": "41yOKzkjKJa0",
        "outputId": "fb50a7f9-ce4f-43cd-c6d9-e950c690120f",
        "colab": {
          "base_uri": "https://localhost:8080/",
          "height": 88
        }
      },
      "source": [
        "nom = Nominatim()\n",
        "geocode_result = nom.geocode(-23.4425,-58.4438)\n",
        "print(geocode_result[0])"
      ],
      "execution_count": null,
      "outputs": [
        {
          "output_type": "stream",
          "text": [
            "/usr/local/lib/python3.6/dist-packages/geopy/geocoders/osm.py:143: UserWarning: Using Nominatim with the default \"geopy/1.17.0\" `user_agent` is strongly discouraged, as it violates Nominatim's ToS https://operations.osmfoundation.org/policies/nominatim/ and may possibly cause 403 and 429 HTTP errors. Please specify a custom `user_agent` with `Nominatim(user_agent=\"my-application\")` or by overriding the default `user_agent`: `geopy.geocoders.options.default_user_agent = \"my-application\"`. In geopy 2.0 this will become an exception.\n",
            "  UserWarning\n"
          ],
          "name": "stderr"
        },
        {
          "output_type": "stream",
          "text": [
            "Ben Allel, Daïra Miliana, Aïn Defla - عين الدفلى, الجزائر\n"
          ],
          "name": "stdout"
        }
      ]
    },
    {
      "cell_type": "code",
      "metadata": {
        "id": "82JcDOuLKJjA",
        "outputId": "ae9db2fc-41e7-4bf1-a298-fb5608402ffd",
        "colab": {
          "base_uri": "https://localhost:8080/",
          "height": 71
        }
      },
      "source": [
        ""
      ],
      "execution_count": null,
      "outputs": [
        {
          "output_type": "stream",
          "text": [
            "/usr/local/lib/python3.6/dist-packages/geopy/point.py:180: UserWarning: A single number has been passed to the Point constructor. This is probably a mistake, because constructing a Point with just a latitude seems senseless. If this is exactly what was meant, then pass the zero longitude explicitly to get rid of this warning.\n",
            "  UserWarning)\n"
          ],
          "name": "stderr"
        }
      ]
    },
    {
      "cell_type": "code",
      "metadata": {
        "id": "plbCCy5zKJmI"
      },
      "source": [
        ""
      ],
      "execution_count": null,
      "outputs": []
    },
    {
      "cell_type": "code",
      "metadata": {
        "id": "tt9ZXy_8KJo_"
      },
      "source": [
        ""
      ],
      "execution_count": null,
      "outputs": []
    },
    {
      "cell_type": "code",
      "metadata": {
        "id": "3Bzmxd2XKJrv"
      },
      "source": [
        ""
      ],
      "execution_count": null,
      "outputs": []
    },
    {
      "cell_type": "code",
      "metadata": {
        "id": "txbN8tSUKJx9"
      },
      "source": [
        ""
      ],
      "execution_count": null,
      "outputs": []
    },
    {
      "cell_type": "code",
      "metadata": {
        "id": "mwPkglXiKJve"
      },
      "source": [
        ""
      ],
      "execution_count": null,
      "outputs": []
    },
    {
      "cell_type": "code",
      "metadata": {
        "id": "QiRqN-OzKJgc"
      },
      "source": [
        ""
      ],
      "execution_count": null,
      "outputs": []
    },
    {
      "cell_type": "code",
      "metadata": {
        "id": "ZcctWNzCKJe5"
      },
      "source": [
        ""
      ],
      "execution_count": null,
      "outputs": []
    },
    {
      "cell_type": "code",
      "metadata": {
        "id": "534p2JTiKJYS"
      },
      "source": [
        ""
      ],
      "execution_count": null,
      "outputs": []
    }
  ]
}